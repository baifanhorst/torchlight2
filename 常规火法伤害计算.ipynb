{
 "cells": [
  {
   "cell_type": "code",
   "execution_count": 36,
   "id": "9c270a93",
   "metadata": {},
   "outputs": [],
   "source": [
    "import numpy as np\n",
    "import matplotlib.pyplot as plt\n",
    "import pandas as pd"
   ]
  },
  {
   "cell_type": "markdown",
   "id": "e47e9d13",
   "metadata": {},
   "source": [
    "## 暴击率函数"
   ]
  },
  {
   "cell_type": "markdown",
   "id": "ca208207",
   "metadata": {},
   "source": [
    "基于喝茶瞬移者的计算公式\n",
    "https://tieba.baidu.com/p/3810346686?see_lz=1"
   ]
  },
  {
   "cell_type": "code",
   "execution_count": 37,
   "id": "8c2a7810",
   "metadata": {},
   "outputs": [],
   "source": [
    "def cal_crit_chance_dex_1(dex):\n",
    "    dex_effective = np.min([dex, 484])\n",
    "    crit_chance = 0.1 + 0.0002 * dex_effective * (1001-dex_effective)\n",
    "    crit_change = np.min([0.501, crit_chance])\n",
    "    return crit_chance"
   ]
  },
  {
   "cell_type": "markdown",
   "id": "4a554a25",
   "metadata": {},
   "source": [
    "基于不火的名字的计算公式   \n",
    "https://tieba.baidu.com/p/7352783459?pid=139760810043&cid=0#139760810043"
   ]
  },
  {
   "cell_type": "code",
   "execution_count": 38,
   "id": "cb8243b2",
   "metadata": {},
   "outputs": [],
   "source": [
    "def cal_crit_chance_dex_2(dex):\n",
    "    dex_effective = np.min([dex, 484])\n",
    "    crit_chance = (-0.000200001 * dex**2 + 0.200201 * dex -0.000270408)/ 100\n",
    "    crit_change = np.min([0.501, crit_chance])\n",
    "    return crit_chance"
   ]
  },
  {
   "cell_type": "markdown",
   "id": "13d0fb28",
   "metadata": {},
   "source": [
    "两种计算方法对比"
   ]
  },
  {
   "cell_type": "code",
   "execution_count": 39,
   "id": "e752408b",
   "metadata": {},
   "outputs": [],
   "source": [
    "dex_list = np.arange(1, 500)\n",
    "crit_chance_list1 = []\n",
    "crit_chance_list2 = []\n",
    "for dex in dex_list:\n",
    "    crit_chance = cal_crit_chance_dex_1(dex)\n",
    "    crit_chance_list1.append(crit_chance)\n",
    "    crit_chance = cal_crit_chance_dex_2(dex)\n",
    "    crit_chance_list2.append(crit_chance)"
   ]
  },
  {
   "cell_type": "markdown",
   "id": "e57b6f33",
   "metadata": {},
   "source": [
    "由图可见结果一致"
   ]
  },
  {
   "cell_type": "code",
   "execution_count": 40,
   "id": "cc33e9cb",
   "metadata": {
    "scrolled": false
   },
   "outputs": [
    {
     "data": {
      "text/plain": [
       "<matplotlib.legend.Legend at 0x26e6576a940>"
      ]
     },
     "execution_count": 40,
     "metadata": {},
     "output_type": "execute_result"
    },
    {
     "data": {
      "image/png": "[encoded data removed]",
      "text/plain": [
       "<Figure size 640x480 with 1 Axes>"
      ]
     },
     "metadata": {},
     "output_type": "display_data"
    }
   ],
   "source": [
    "fig = plt.figure()\n",
    "ax = fig.add_subplot(111)\n",
    "\n",
    "ax.plot(dex_list, crit_chance_list1, label=\"Hecha\")\n",
    "ax.plot(dex_list, crit_chance_list1, label=\"Buhuo\")\n",
    "\n",
    "ax.legend()"
   ]
  },
  {
   "cell_type": "markdown",
   "id": "121fbaaf",
   "metadata": {},
   "source": [
    "## 固伤增幅计算"
   ]
  },
  {
   "cell_type": "code",
   "execution_count": 60,
   "id": "6afea382",
   "metadata": {},
   "outputs": [],
   "source": [
    "num_skull_focus = 2\n",
    "dex_equipment = 120\n",
    "foc_equipment = 42 * 2 + 68"
   ]
  },
  {
   "cell_type": "code",
   "execution_count": 61,
   "id": "67de06a6",
   "metadata": {
    "scrolled": true
   },
   "outputs": [
    {
     "name": "stdout",
     "output_type": "stream",
     "text": [
      "dmg_max 20.506564756\n",
      "dex_optimal 233\n",
      "dex_lvlup_optimal 103\n",
      "foc_lvlup_optimal 392\n",
      "num_skull_critchance_optimal 2\n",
      "crit_chance_optimal 0.778888\n"
     ]
    }
   ],
   "source": [
    "dmg_max = 0\n",
    "\n",
    "for num_skull_critchance in range(0, 8+1):\n",
    "    num_skull_critdamage = 8 - num_skull_critchance\n",
    "    for dex_lvlup in range(495+1):\n",
    "        foc_lvlup = 495 - dex_lvlup\n",
    "        dex = 10 + dex_lvlup + dex_equipment\n",
    "        foc = 15 + foc_lvlup + foc_equipment + num_skull_focus * 62\n",
    "        crit_chance_equip = num_skull_critchance * 0.1 + 0.06 + 0.08*2\n",
    "        crit_chance_dex = cal_crit_chance_dex_1(dex)/100\n",
    "        crit_chance = crit_chance_dex + crit_chance_equip\n",
    "        crit_chance = np.min([1, crit_chance])\n",
    "        dmg_crit_amp = 1 + 0.5 + num_skull_critdamage*0.6 + 0.2 \n",
    "        dmg_base_amp = 1 + foc * 0.005 + 0.15*2\n",
    "        dmg = ((1-crit_chance) * 1 + crit_chance * dmg_crit_amp) * dmg_base_amp\n",
    "        if dmg > dmg_max:\n",
    "            dmg_max = dmg\n",
    "            dex_optimal = dex\n",
    "            dex_lvlup_optimal = dex_lvlup\n",
    "            foc_lvlup_optimal = foc_lvlup\n",
    "            num_skull_critchance_optimal = num_skull_critchance\n",
    "            num_skull_critdamage_optimal = num_skull_critdamage\n",
    "            crit_chance_optimal = crit_chance\n",
    "            \n",
    "print(\"dmg_max\", dmg_max)\n",
    "print(\"dex_optimal\", dex_optimal)\n",
    "print(\"dex_lvlup_optimal\", dex_lvlup_optimal)\n",
    "print(\"foc_lvlup_optimal\", foc_lvlup_optimal)\n",
    "print(\"num_skull_critchance_optimal\", num_skull_critchance_optimal)\n",
    "print(\"crit_chance_optimal\", crit_chance_optimal)"
   ]
  }
 ],
 "metadata": {
  "kernelspec": {
   "display_name": "Python 3 (ipykernel)",
   "language": "python",
   "name": "python3"
  },
  "language_info": {
   "codemirror_mode": {
    "name": "ipython",
    "version": 3
   },
   "file_extension": ".py",
   "mimetype": "text/x-python",
   "name": "python",
   "nbconvert_exporter": "python",
   "pygments_lexer": "ipython3",
   "version": "3.9.13"
  }
 },
 "nbformat": 4,
 "nbformat_minor": 5
}
